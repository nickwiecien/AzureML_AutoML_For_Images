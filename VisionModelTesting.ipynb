{
 "cells": [
  {
   "cell_type": "code",
   "execution_count": null,
   "id": "070318d0-0f74-40b3-b498-a1679edd6572",
   "metadata": {},
   "outputs": [],
   "source": [
    "from azureml.core import Workspace, Model, Run, Environment\n",
    "import os"
   ]
  },
  {
   "cell_type": "code",
   "execution_count": null,
   "id": "34ee2eec-8dab-48e1-aefe-ade46d70ce2d",
   "metadata": {},
   "outputs": [],
   "source": [
    "ws = Workspace.from_config()"
   ]
  },
  {
   "cell_type": "code",
   "execution_count": null,
   "id": "155ad01e-0680-4adf-a3fb-51876f23ec70",
   "metadata": {},
   "outputs": [],
   "source": [
    "model_list = Model.list(ws, 'MY_MODEL')\n",
    "best_child_run_id = model_list[0].run_id\n",
    "best_child_run = Run.get(ws, best_child_run_id)\n",
    "model = model_list[0]\n",
    "model"
   ]
  },
  {
   "cell_type": "code",
   "execution_count": null,
   "id": "ced8fb22-2dc9-4527-bd26-d8e537a92542",
   "metadata": {},
   "outputs": [],
   "source": [
    "#Deploy the model from the best run as an AKS web service\n",
    "from azureml.core.model import InferenceConfig\n",
    "from azureml.core.webservice import AksWebservice, LocalWebservice\n",
    "from azureml.core.webservice import Webservice\n",
    "from azureml.core.model import Model\n",
    "from azureml.core.environment import Environment\n",
    "\n",
    "environment = Environment.from_conda_specification('objectdetectionenv', './automl_outputs/outputs/conda_env_v_1_0_0.yml')\n",
    "inference_config = InferenceConfig(entry_script='./outputs/scoring_file_v_1_0_0.py', environment=environment, source_directory='./automl_outputs') \n",
    "\n",
    "deployment_config = LocalWebservice.deploy_configuration(port=6789)\n",
    "\n",
    "local_service = Model.deploy(ws,\n",
    "                           models=[model],\n",
    "                           inference_config=inference_config,\n",
    "                           deployment_config=deployment_config,\n",
    "                           name='automl-image-test',\n",
    "                           overwrite=True)\n",
    "local_service.wait_for_deployment(show_output=True)\n",
    "print(local_service.state)"
   ]
  },
  {
   "cell_type": "code",
   "execution_count": null,
   "id": "f6209294-736a-49dd-aea4-7cd399b693f3",
   "metadata": {},
   "outputs": [],
   "source": [
    "import requests\n",
    "\n",
    "# URL for the web service\n",
    "scoring_uri = local_service.scoring_uri\n",
    "\n",
    "sample_image = './path/to/sample/img.jpg'\n",
    "\n",
    "# Load image data\n",
    "data = open(sample_image, 'rb').read()\n",
    "\n",
    "# Set the content type\n",
    "headers = {'Content-Type': 'application/octet-stream'}"
   ]
  },
  {
   "cell_type": "code",
   "execution_count": null,
   "id": "ff3690b8-bac5-494c-ba1a-cfc6a1a9dc49",
   "metadata": {},
   "outputs": [],
   "source": [
    "from IPython.display import Image \n",
    "img = Image(filename=sample_image)\n",
    "display(img)"
   ]
  },
  {
   "cell_type": "code",
   "execution_count": null,
   "id": "6cfca32e-a2b4-44c5-96c9-78c5f0f5fed8",
   "metadata": {},
   "outputs": [],
   "source": [
    "\n",
    "\n",
    "%matplotlib inline\n",
    "import matplotlib.pyplot as plt\n",
    "import matplotlib.image as mpimg\n",
    "import matplotlib.patches as patches\n",
    "from matplotlib.lines import Line2D\n",
    "from PIL import Image\n",
    "import numpy as np\n",
    "import json\n",
    "\n",
    "# Object detection threshold\n",
    "minscore=0.8\n",
    "\n",
    "for f in os.listdir('./FlyProject'):\n",
    "    if 'jp' in f:\n",
    "        pass\n",
    "    else:\n",
    "        continue\n",
    "    sample_image = './FlyProject/{}'.format(f)\n",
    "    data = open(sample_image, 'rb').read()\n",
    "    # Set the content type\n",
    "    headers = {'Content-Type': 'application/octet-stream'}\n",
    "\n",
    "    # If authentication is enabled, set the authorization header\n",
    "    # headers['Authorization'] = f'Bearer {key}'\n",
    "\n",
    "    # Make the request and display the response\n",
    "    resp = requests.post(scoring_uri, data, headers=headers)\n",
    "\n",
    "    IMAGE_SIZE = (9,6)\n",
    "    plt.figure(figsize=IMAGE_SIZE)\n",
    "    img_np=mpimg.imread(sample_image)\n",
    "    img = Image.fromarray(img_np.astype('uint8'),'RGB')\n",
    "    x, y = img.size\n",
    "\n",
    "    fig,ax = plt.subplots(1, figsize=(30,30))\n",
    "    # Display the image\n",
    "    ax.imshow(img_np)\n",
    "\n",
    "    # draw box and label for each detection \n",
    "    detections = json.loads(resp.text)\n",
    "    for detect in detections['boxes']:\n",
    "        # print(detect)\n",
    "        label = detect['label']\n",
    "        box = detect['box']\n",
    "        # polygon = detect['polygon']\n",
    "        conf_score = detect['score']\n",
    "        if conf_score >= minscore: #Min probability\n",
    "                ymin, xmin, ymax, xmax =  box['topY'],box['topX'], box['bottomY'],box['bottomX']\n",
    "                topleft_x, topleft_y = x * xmin, y * ymin\n",
    "                width, height = x * (xmax - xmin), y * (ymax - ymin)\n",
    "                # print('{}: [{}, {}, {}, {}], {}'.format(detect['label'], round(topleft_x, 3), \n",
    "                #                                         round(topleft_y, 3), round(width, 3), \n",
    "                #                                         round(height, 3), round(conf_score, 3)))\n",
    "\n",
    "                color = 'red' #You can change the color\n",
    "                rect = patches.Rectangle((topleft_x, topleft_y), width, height, \n",
    "                                         linewidth=3, edgecolor=color,facecolor='none')\n",
    "                textdisp=label+'='+str(round(conf_score, 3))\n",
    "                ax.add_patch(rect)\n",
    "                plt.text(topleft_x, topleft_y - 10, textdisp, color=color, fontsize=18)\n",
    "\n",
    "    print(f)\n",
    "    plt.show()\n",
    "    display(img)\n",
    "    print()\n",
    "    print()"
   ]
  }
 ],
 "metadata": {
  "kernelspec": {
   "display_name": "Python 3.8 - AzureML",
   "language": "python",
   "name": "python38-azureml"
  },
  "language_info": {
   "codemirror_mode": {
    "name": "ipython",
    "version": 3
   },
   "file_extension": ".py",
   "mimetype": "text/x-python",
   "name": "python",
   "nbconvert_exporter": "python",
   "pygments_lexer": "ipython3",
   "version": "3.8.5"
  }
 },
 "nbformat": 4,
 "nbformat_minor": 5
}
